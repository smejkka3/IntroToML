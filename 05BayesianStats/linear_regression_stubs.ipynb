{
 "cells": [
  {
   "cell_type": "markdown",
   "metadata": {},
   "source": [
    "# Probabilistic Linear Regression"
   ]
  },
  {
   "cell_type": "code",
   "execution_count": 1,
   "metadata": {},
   "outputs": [],
   "source": [
    "import numpy as np\n",
    "import matplotlib.pyplot as plt\n",
    "from matplotlib import animation\n",
    "%matplotlib inline\n",
    "\n",
    "from Vis import plot_gaussian\n",
    "\n",
    "np.random.seed(101)"
   ]
  },
  {
   "cell_type": "code",
   "execution_count": 2,
   "metadata": {},
   "outputs": [],
   "source": [
    "def toy(N, k, alpha2=1, m0=5, beta2=10, outliers=False):\n",
    "    ones = np.ones(N)\n",
    "    X = np.linspace(-2, 2, N)\n",
    "    X = np.vstack((ones[np.newaxis], X))\n",
    "\n",
    "    mu0 = m0*np.ones(k)\n",
    "    Sigma0 = (1./np.sqrt(beta2))*np.eye(k)\n",
    "    w = np.random.multivariate_normal(mu0, Sigma0)\n",
    "    print(\"TRUE w:\", w)\n",
    "    print(\"Var W:\", np.var(w))\n",
    "    Eps = np.random.normal(scale=np.sqrt(alpha2), size=[N])\n",
    "    if outliers:\n",
    "        Eps[-10:] = Eps[-10:] + 50\n",
    "    y = X.T.dot(w) + Eps\n",
    "    return X, y"
   ]
  },
  {
   "cell_type": "code",
   "execution_count": 3,
   "metadata": {},
   "outputs": [],
   "source": [
    "def plot(X, y, w):\n",
    "    plt.figure()\n",
    "    plt.scatter(X[1], y)\n",
    "    v = X.T.dot(w)\n",
    "    plt.plot(X[1], v, c='r')"
   ]
  },
  {
   "cell_type": "code",
   "execution_count": 4,
   "metadata": {},
   "outputs": [],
   "source": [
    "def MAP(X, y, lambd=1):\n",
    "    k = X.shape[0]\n",
    "    w = np.linalg.inv(X.dot(X.T) + lambd * np.eye(k)).dot(X).dot(y)\n",
    "    return w"
   ]
  },
  {
   "cell_type": "code",
   "execution_count": 27,
   "metadata": {},
   "outputs": [],
   "source": [
    "def Bayesian(X, y, alpha=1, mu0=None, Sigma0=None, n_max=5): #compute mean posterior and covariance \n",
    "#for each chucnk if it comes sequantialy\n",
    "    k,N = X.shape\n",
    "    X = X.T\n",
    "    if mu0 is None:\n",
    "        mu0 = np.zeros(k)\n",
    "    if Sigma0 is None:\n",
    "        Sigma0 = np.eye(k)\n",
    "\n",
    "    for n in range(n_max):\n",
    "        # YOUR CODE HERE compute posterior mean and posterior \n",
    "        #sigma slide 31 withlabmda and alpha computed from slide 38 - slide 45\n",
    "        Sigma_N = np.linalg.inv((X.T @ X) + alpha*np.linalg.inv(Sigma0))\n",
    "        mu_N = Sigma_N * ((X.T @ y) + alpha*np.linalg.inv(Sigma0)*mu0)\n",
    "        # END\n",
    "        print(\"a:\", alpha)\n",
    "        Sigma0 = Sigma_N\n",
    "        print(\"S0:\", Sigma0)\n",
    "        mu0 = mu_N\n",
    "\n",
    "    return Sigma_N, mu_N, alpha"
   ]
  },
  {
   "cell_type": "code",
   "execution_count": 28,
   "metadata": {},
   "outputs": [],
   "source": [
    "def VariationalBayesian(X, y, a_0=1, b_0=1, alpha=.1):\n",
    "    Ea = a_0 / np.float(b_0)\n",
    "    k,N = X.shape\n",
    "    \n",
    "    # YOUR CODE HERE\n",
    "\n",
    "    # END \n",
    "    \n",
    "    return Sigma_N, mu_N, a_N, b_N\n"
   ]
  },
  {
   "cell_type": "code",
   "execution_count": 29,
   "metadata": {},
   "outputs": [],
   "source": [
    "def seqBayes(X, y, n_seq=10, alpha=1):\n",
    "    _,N = X.shape\n",
    "    mu_N = None\n",
    "    Sigma_N = None\n",
    "    idx = np.arange(N)\n",
    "    np.random.shuffle(idx)\n",
    "    splits = np.split(idx, n_seq)\n",
    "    for idx in splits:\n",
    "        \n",
    "        Sigma_N, mu_N, alpha = Bayesian(X[:, idx], y[idx], alpha=alpha, mu0=mu_N, Sigma0=Sigma_N)\n",
    "        w_bayes = mu_N\n",
    "        print(\"Bayes Est w:\", w_bayes)\n",
    "        print(\"alpha:\", alpha)\n",
    "        plot(X, y, w_bayes)\n",
    "        \n",
    "\n",
    "    return Sigma_N, mu_N"
   ]
  },
  {
   "cell_type": "code",
   "execution_count": 30,
   "metadata": {},
   "outputs": [],
   "source": [
    "def seqVarBayes(X, y, n_seq=10, alpha=0.1):\n",
    "    _,N = X.shape\n",
    "    a_N = 1\n",
    "    b_N = 1\n",
    "    idx = np.arange(N)\n",
    "    np.random.shuffle(idx)\n",
    "    splits = np.split(idx, n_seq)\n",
    "    for idx in splits:\n",
    "        Sigma_N, mu_N, a_N, b_N = VariationalBayesian(X[:, idx], y[idx], alpha=alpha, a_0=a_N, b_0=b_N)\n",
    "        w_bayes = mu_N\n",
    "        print(\"Bayes Est w:\", w_bayes)\n",
    "        print(\"E_a:\", a_N/np.float(b_N))\n",
    "        plot(X, y, w_bayes)\n",
    "    return Sigma_N, mu_N"
   ]
  },
  {
   "cell_type": "markdown",
   "metadata": {},
   "source": [
    "# Generate data"
   ]
  },
  {
   "cell_type": "code",
   "execution_count": 31,
   "metadata": {},
   "outputs": [
    {
     "name": "stdout",
     "output_type": "stream",
     "text": [
      "TRUE w: [4.61002869 5.74408799]\n",
      "Var W: 0.3215226231040417\n"
     ]
    }
   ],
   "source": [
    "N = 500\n",
    "k = 2\n",
    "alpha = 2\n",
    "X, y = toy(N, k, alpha2=alpha, outliers=True)"
   ]
  },
  {
   "cell_type": "markdown",
   "metadata": {},
   "source": [
    "# MAP"
   ]
  },
  {
   "cell_type": "code",
   "execution_count": 32,
   "metadata": {},
   "outputs": [
    {
     "name": "stdout",
     "output_type": "stream",
     "text": [
      "Est w: [5.60742723 7.20270518]\n"
     ]
    },
    {
     "data": {
      "image/png": "[encoded data removed]",
      "text/plain": [
       "<Figure size 432x288 with 1 Axes>"
      ]
     },
     "metadata": {
      "needs_background": "light"
     },
     "output_type": "display_data"
    }
   ],
   "source": [
    "w_map = MAP(X,y, lambd=alpha)\n",
    "print(\"Est w:\", w_map)\n",
    "plot(X, y, w_map)"
   ]
  },
  {
   "cell_type": "markdown",
   "metadata": {},
   "source": [
    "EX: Please implement the missing update rules in the `Bayesian` function."
   ]
  },
  {
   "cell_type": "code",
   "execution_count": 33,
   "metadata": {
    "scrolled": false
   },
   "outputs": [
    {
     "name": "stdout",
     "output_type": "stream",
     "text": [
      "a: 2\n",
      "S0: [[ 0.00991835 -0.00091866]\n",
      " [-0.00091866  0.00737508]]\n",
      "a: 2\n",
      "S0: [[ 0.00332831 -0.00030978]\n",
      " [-0.00030978  0.0024707 ]]\n",
      "a: 2\n",
      "S0: [[ 0.00142916 -0.0001332 ]\n",
      " [-0.0001332   0.00106039]]\n",
      "a: 2\n",
      "S0: [[ 6.67455601e-04 -6.22448284e-05]\n",
      " [-6.22448284e-05  4.95133720e-04]]\n",
      "a: 2\n",
      "S0: [[ 3.23074653e-04 -3.01365460e-05]\n",
      " [-3.01365460e-05  2.39643042e-04]]\n",
      "Bayes Est w: [[ 6.07468503 -0.0275542 ]\n",
      " [-0.01720324  7.21711078]]\n",
      "alpha: 2\n",
      "a: 2\n",
      "S0: [[ 1.59003369e-04 -1.48563197e-05]\n",
      " [-1.48563197e-05  1.18058996e-04]]\n",
      "a: 2\n",
      "S0: [[ 7.88829869e-05 -7.37627587e-06]\n",
      " [-7.37627587e-06  5.85985179e-05]]\n",
      "a: 2\n",
      "S0: [[ 3.92886178e-05 -3.67530167e-06]\n",
      " [-3.67530167e-06  2.91926897e-05]]\n",
      "a: 2\n",
      "S0: [[ 1.96063118e-05 -1.83445841e-06]\n",
      " [-1.83445841e-06  1.45698476e-05]]\n",
      "a: 2\n",
      "S0: [[ 9.79368417e-06 -9.16433163e-07]\n",
      " [-9.16433163e-07  7.27831754e-06]]\n",
      "Bayes Est w: [[ 6.46873627e+00 -9.64810448e-04]\n",
      " [-6.15733758e-04  7.69424444e+00]]\n",
      "alpha: 2\n",
      "a: 2\n",
      "S0: [[ 4.89441278e-06 -4.57748178e-07]\n",
      " [-4.57748178e-07  3.63731449e-06]]\n",
      "a: 2\n",
      "S0: [[ 2.44659952e-06 -2.28757121e-07]\n",
      " [-2.28757121e-07  1.81819653e-06]]\n",
      "a: 2\n",
      "S0: [[ 1.22314810e-06 -1.14349335e-07]\n",
      " [-1.14349335e-07  9.08983131e-07]]\n",
      "a: 2\n",
      "S0: [[ 6.11536143e-07 -5.71673631e-08]\n",
      " [-5.71673631e-08  4.54462788e-07]]\n",
      "a: 2\n",
      "S0: [[ 3.05758595e-07 -2.85818557e-08]\n",
      " [-2.85818557e-08  2.27224200e-07]]\n",
      "Bayes Est w: [[ 6.86299444e+00 -3.30226028e-05]\n",
      " [-1.82891644e-05  8.16400852e+00]]\n",
      "alpha: 2\n",
      "a: 2\n",
      "S0: [[ 1.52876861e-07 -1.42902041e-08]\n",
      " [-1.42902041e-08  1.13610331e-07]]\n",
      "a: 2\n",
      "S0: [[ 7.64378214e-08 -7.14492113e-09]\n",
      " [-7.14492113e-09  5.68047235e-08]]\n",
      "a: 2\n",
      "S0: [[ 3.82187584e-08 -3.57241533e-09]\n",
      " [-3.57241533e-09  2.84022512e-08]]\n",
      "a: 2\n",
      "S0: [[ 1.91093411e-08 -1.78619636e-09]\n",
      " [-1.78619636e-09  1.42010980e-08]]\n",
      "a: 2\n",
      "S0: [[ 9.55466105e-09 -8.93095352e-10]\n",
      " [-8.93095352e-10  7.10054207e-09]]\n",
      "Bayes Est w: [[ 7.28098449e+00 -6.87289410e-07]\n",
      " [-3.69750021e-07  8.66126792e+00]]\n",
      "alpha: 2\n",
      "a: 2\n",
      "S0: [[ 4.77732818e-09 -4.46547099e-10]\n",
      " [-4.46547099e-10  3.55026924e-09]]\n",
      "a: 2\n",
      "S0: [[ 2.38866350e-09 -2.23273405e-10]\n",
      " [-2.23273405e-10  1.77513417e-09]]\n",
      "a: 2\n",
      "S0: [[ 1.19433161e-09 -1.11636667e-10]\n",
      " [-1.11636667e-10  8.87566972e-10]]\n",
      "a: 2\n",
      "S0: [[ 5.97165766e-10 -5.58183243e-11]\n",
      " [-5.58183243e-11  4.43783458e-10]]\n",
      "a: 2\n",
      "S0: [[ 2.98582874e-10 -2.79091599e-11]\n",
      " [-2.79091599e-11  2.21891722e-10]]\n",
      "Bayes Est w: [[ 7.72450581e+00 -2.31939797e-08]\n",
      " [-1.26397940e-08  9.18886973e+00]]\n",
      "alpha: 2\n",
      "(2, 2) (2, 2)\n"
     ]
    },
    {
     "ename": "ValueError",
     "evalue": "Array 'mean' must be a vector of length 4.",
     "output_type": "error",
     "traceback": [
      "\u001b[0;31m---------------------------------------------------------------------------\u001b[0m",
      "\u001b[0;31mValueError\u001b[0m                                Traceback (most recent call last)",
      "\u001b[0;32m<ipython-input-33-f9c75e600bcf>\u001b[0m in \u001b[0;36m<module>\u001b[0;34m\u001b[0m\n\u001b[1;32m      2\u001b[0m \u001b[0mSigma\u001b[0m\u001b[0;34m,\u001b[0m \u001b[0mmu\u001b[0m \u001b[0;34m=\u001b[0m \u001b[0mseqBayes\u001b[0m\u001b[0;34m(\u001b[0m\u001b[0mX\u001b[0m\u001b[0;34m,\u001b[0m \u001b[0my\u001b[0m\u001b[0;34m,\u001b[0m \u001b[0malpha\u001b[0m\u001b[0;34m=\u001b[0m\u001b[0malpha\u001b[0m\u001b[0;34m,\u001b[0m \u001b[0mn_seq\u001b[0m\u001b[0;34m=\u001b[0m\u001b[0mn_seq\u001b[0m\u001b[0;34m)\u001b[0m\u001b[0;34m\u001b[0m\u001b[0;34m\u001b[0m\u001b[0m\n\u001b[1;32m      3\u001b[0m \u001b[0mprint\u001b[0m\u001b[0;34m(\u001b[0m\u001b[0mSigma\u001b[0m\u001b[0;34m.\u001b[0m\u001b[0mshape\u001b[0m\u001b[0;34m,\u001b[0m\u001b[0mmu\u001b[0m\u001b[0;34m.\u001b[0m\u001b[0mshape\u001b[0m\u001b[0;34m)\u001b[0m\u001b[0;34m\u001b[0m\u001b[0;34m\u001b[0m\u001b[0m\n\u001b[0;32m----> 4\u001b[0;31m \u001b[0mplot_gaussian\u001b[0m\u001b[0;34m(\u001b[0m\u001b[0mmu\u001b[0m\u001b[0;34m,\u001b[0m \u001b[0mSigma\u001b[0m\u001b[0;34m,\u001b[0m \u001b[0mval\u001b[0m\u001b[0;34m=\u001b[0m\u001b[0;36m0.1\u001b[0m\u001b[0;34m)\u001b[0m\u001b[0;34m\u001b[0m\u001b[0;34m\u001b[0m\u001b[0m\n\u001b[0m",
      "\u001b[0;32m~/Vis.py\u001b[0m in \u001b[0;36mplot_gaussian\u001b[0;34m(mu, Sigma, N, z_offset, val)\u001b[0m\n\u001b[1;32m      8\u001b[0m \u001b[0;34m\u001b[0m\u001b[0m\n\u001b[1;32m      9\u001b[0m \u001b[0;32mdef\u001b[0m \u001b[0mplot_gaussian\u001b[0m\u001b[0;34m(\u001b[0m\u001b[0mmu\u001b[0m\u001b[0;34m,\u001b[0m \u001b[0mSigma\u001b[0m\u001b[0;34m,\u001b[0m \u001b[0mN\u001b[0m\u001b[0;34m=\u001b[0m\u001b[0;36m100\u001b[0m\u001b[0;34m,\u001b[0m \u001b[0mz_offset\u001b[0m\u001b[0;34m=\u001b[0m\u001b[0;34m-\u001b[0m\u001b[0;36m0.2\u001b[0m\u001b[0;34m,\u001b[0m \u001b[0mval\u001b[0m\u001b[0;34m=\u001b[0m\u001b[0;36m2\u001b[0m\u001b[0;34m)\u001b[0m\u001b[0;34m:\u001b[0m\u001b[0;34m\u001b[0m\u001b[0;34m\u001b[0m\u001b[0m\n\u001b[0;32m---> 10\u001b[0;31m     \u001b[0mgauss\u001b[0m \u001b[0;34m=\u001b[0m \u001b[0mgaussian\u001b[0m\u001b[0;34m(\u001b[0m\u001b[0mmu\u001b[0m\u001b[0;34m,\u001b[0m \u001b[0mSigma\u001b[0m\u001b[0;34m)\u001b[0m\u001b[0;34m\u001b[0m\u001b[0;34m\u001b[0m\u001b[0m\n\u001b[0m\u001b[1;32m     11\u001b[0m     \u001b[0mx\u001b[0m \u001b[0;34m=\u001b[0m \u001b[0mnp\u001b[0m\u001b[0;34m.\u001b[0m\u001b[0mlinspace\u001b[0m\u001b[0;34m(\u001b[0m\u001b[0mmu\u001b[0m\u001b[0;34m[\u001b[0m\u001b[0;36m0\u001b[0m\u001b[0;34m]\u001b[0m\u001b[0;34m-\u001b[0m\u001b[0mval\u001b[0m\u001b[0;34m,\u001b[0m \u001b[0mmu\u001b[0m\u001b[0;34m[\u001b[0m\u001b[0;36m0\u001b[0m\u001b[0;34m]\u001b[0m\u001b[0;34m+\u001b[0m\u001b[0mval\u001b[0m\u001b[0;34m,\u001b[0m \u001b[0mN\u001b[0m\u001b[0;34m)\u001b[0m\u001b[0;34m\u001b[0m\u001b[0;34m\u001b[0m\u001b[0m\n\u001b[1;32m     12\u001b[0m     \u001b[0my\u001b[0m \u001b[0;34m=\u001b[0m \u001b[0mnp\u001b[0m\u001b[0;34m.\u001b[0m\u001b[0mlinspace\u001b[0m\u001b[0;34m(\u001b[0m\u001b[0mmu\u001b[0m\u001b[0;34m[\u001b[0m\u001b[0;36m1\u001b[0m\u001b[0;34m]\u001b[0m\u001b[0;34m-\u001b[0m\u001b[0mval\u001b[0m\u001b[0;34m,\u001b[0m \u001b[0mmu\u001b[0m\u001b[0;34m[\u001b[0m\u001b[0;36m1\u001b[0m\u001b[0;34m]\u001b[0m\u001b[0;34m+\u001b[0m\u001b[0mval\u001b[0m\u001b[0;34m,\u001b[0m \u001b[0mN\u001b[0m\u001b[0;34m)\u001b[0m\u001b[0;34m\u001b[0m\u001b[0;34m\u001b[0m\u001b[0m\n",
      "\u001b[0;32m/home/bewoadmin/anaconda3/lib/python3.7/site-packages/scipy/stats/_multivariate.py\u001b[0m in \u001b[0;36m__call__\u001b[0;34m(self, mean, cov, allow_singular, seed)\u001b[0m\n\u001b[1;32m    361\u001b[0m         return multivariate_normal_frozen(mean, cov,\n\u001b[1;32m    362\u001b[0m                                           \u001b[0mallow_singular\u001b[0m\u001b[0;34m=\u001b[0m\u001b[0mallow_singular\u001b[0m\u001b[0;34m,\u001b[0m\u001b[0;34m\u001b[0m\u001b[0;34m\u001b[0m\u001b[0m\n\u001b[0;32m--> 363\u001b[0;31m                                           seed=seed)\n\u001b[0m\u001b[1;32m    364\u001b[0m \u001b[0;34m\u001b[0m\u001b[0m\n\u001b[1;32m    365\u001b[0m     \u001b[0;32mdef\u001b[0m \u001b[0m_process_parameters\u001b[0m\u001b[0;34m(\u001b[0m\u001b[0mself\u001b[0m\u001b[0;34m,\u001b[0m \u001b[0mdim\u001b[0m\u001b[0;34m,\u001b[0m \u001b[0mmean\u001b[0m\u001b[0;34m,\u001b[0m \u001b[0mcov\u001b[0m\u001b[0;34m)\u001b[0m\u001b[0;34m:\u001b[0m\u001b[0;34m\u001b[0m\u001b[0;34m\u001b[0m\u001b[0m\n",
      "\u001b[0;32m/home/bewoadmin/anaconda3/lib/python3.7/site-packages/scipy/stats/_multivariate.py\u001b[0m in \u001b[0;36m__init__\u001b[0;34m(self, mean, cov, allow_singular, seed, maxpts, abseps, releps)\u001b[0m\n\u001b[1;32m    733\u001b[0m         \u001b[0mself\u001b[0m\u001b[0;34m.\u001b[0m\u001b[0m_dist\u001b[0m \u001b[0;34m=\u001b[0m \u001b[0mmultivariate_normal_gen\u001b[0m\u001b[0;34m(\u001b[0m\u001b[0mseed\u001b[0m\u001b[0;34m)\u001b[0m\u001b[0;34m\u001b[0m\u001b[0;34m\u001b[0m\u001b[0m\n\u001b[1;32m    734\u001b[0m         self.dim, self.mean, self.cov = self._dist._process_parameters(\n\u001b[0;32m--> 735\u001b[0;31m                                                             None, mean, cov)\n\u001b[0m\u001b[1;32m    736\u001b[0m         \u001b[0mself\u001b[0m\u001b[0;34m.\u001b[0m\u001b[0mcov_info\u001b[0m \u001b[0;34m=\u001b[0m \u001b[0m_PSD\u001b[0m\u001b[0;34m(\u001b[0m\u001b[0mself\u001b[0m\u001b[0;34m.\u001b[0m\u001b[0mcov\u001b[0m\u001b[0;34m,\u001b[0m \u001b[0mallow_singular\u001b[0m\u001b[0;34m=\u001b[0m\u001b[0mallow_singular\u001b[0m\u001b[0;34m)\u001b[0m\u001b[0;34m\u001b[0m\u001b[0;34m\u001b[0m\u001b[0m\n\u001b[1;32m    737\u001b[0m         \u001b[0;32mif\u001b[0m \u001b[0;32mnot\u001b[0m \u001b[0mmaxpts\u001b[0m\u001b[0;34m:\u001b[0m\u001b[0;34m\u001b[0m\u001b[0;34m\u001b[0m\u001b[0m\n",
      "\u001b[0;32m/home/bewoadmin/anaconda3/lib/python3.7/site-packages/scipy/stats/_multivariate.py\u001b[0m in \u001b[0;36m_process_parameters\u001b[0;34m(self, dim, mean, cov)\u001b[0m\n\u001b[1;32m    405\u001b[0m         \u001b[0;32mif\u001b[0m \u001b[0mmean\u001b[0m\u001b[0;34m.\u001b[0m\u001b[0mndim\u001b[0m \u001b[0;34m!=\u001b[0m \u001b[0;36m1\u001b[0m \u001b[0;32mor\u001b[0m \u001b[0mmean\u001b[0m\u001b[0;34m.\u001b[0m\u001b[0mshape\u001b[0m\u001b[0;34m[\u001b[0m\u001b[0;36m0\u001b[0m\u001b[0;34m]\u001b[0m \u001b[0;34m!=\u001b[0m \u001b[0mdim\u001b[0m\u001b[0;34m:\u001b[0m\u001b[0;34m\u001b[0m\u001b[0;34m\u001b[0m\u001b[0m\n\u001b[1;32m    406\u001b[0m             raise ValueError(\"Array 'mean' must be a vector of length %d.\" %\n\u001b[0;32m--> 407\u001b[0;31m                              dim)\n\u001b[0m\u001b[1;32m    408\u001b[0m         \u001b[0;32mif\u001b[0m \u001b[0mcov\u001b[0m\u001b[0;34m.\u001b[0m\u001b[0mndim\u001b[0m \u001b[0;34m==\u001b[0m \u001b[0;36m0\u001b[0m\u001b[0;34m:\u001b[0m\u001b[0;34m\u001b[0m\u001b[0;34m\u001b[0m\u001b[0m\n\u001b[1;32m    409\u001b[0m             \u001b[0mcov\u001b[0m \u001b[0;34m=\u001b[0m \u001b[0mcov\u001b[0m \u001b[0;34m*\u001b[0m \u001b[0mnp\u001b[0m\u001b[0;34m.\u001b[0m\u001b[0meye\u001b[0m\u001b[0;34m(\u001b[0m\u001b[0mdim\u001b[0m\u001b[0;34m)\u001b[0m\u001b[0;34m\u001b[0m\u001b[0;34m\u001b[0m\u001b[0m\n",
      "\u001b[0;31mValueError\u001b[0m: Array 'mean' must be a vector of length 4."
     ]
    },
    {
     "data": {
      "image/png": "[encoded data removed]",
      "text/plain": [
       "<Figure size 432x288 with 1 Axes>"
      ]
     },
     "metadata": {
      "needs_background": "light"
     },
     "output_type": "display_data"
    },
    {
     "data": {
      "image/png": "[encoded data removed]",
      "text/plain": [
       "<Figure size 432x288 with 1 Axes>"
      ]
     },
     "metadata": {
      "needs_background": "light"
     },
     "output_type": "display_data"
    },
    {
     "data": {
      "image/png": "[encoded data removed]",
      "text/plain": [
       "<Figure size 432x288 with 1 Axes>"
      ]
     },
     "metadata": {
      "needs_background": "light"
     },
     "output_type": "display_data"
    },
    {
     "data": {
      "image/png": "[encoded data removed]",
      "text/plain": [
       "<Figure size 432x288 with 1 Axes>"
      ]
     },
     "metadata": {
      "needs_background": "light"
     },
     "output_type": "display_data"
    },
    {
     "data": {
      "image/png": "[encoded data removed]",
      "text/plain": [
       "<Figure size 432x288 with 1 Axes>"
      ]
     },
     "metadata": {
      "needs_background": "light"
     },
     "output_type": "display_data"
    }
   ],
   "source": [
    "n_seq = 5\n",
    "Sigma, mu = seqBayes(X, y, alpha=alpha, n_seq=n_seq)\n",
    "print(Sigma.shape,mu.shape)\n",
    "plot_gaussian(mu, Sigma, val=0.1)"
   ]
  },
  {
   "cell_type": "markdown",
   "metadata": {},
   "source": [
    "EX: Please implement the missing update rules in the `VariationalBayesian` function."
   ]
  },
  {
   "cell_type": "code",
   "execution_count": null,
   "metadata": {
    "scrolled": false
   },
   "outputs": [],
   "source": [
    "Sigma, mu = seqBayes(X, y, alpha=alpha, n_seq=n_seq)\n",
    "\n",
    "plot_gaussian(mu, Sigma, val=0.1)"
   ]
  },
  {
   "cell_type": "code",
   "execution_count": null,
   "metadata": {},
   "outputs": [],
   "source": []
  }
 ],
 "metadata": {
  "kernelspec": {
   "display_name": "Python 37",
   "language": "python",
   "name": "python3"
  },
  "language_info": {
   "codemirror_mode": {
    "name": "ipython",
    "version": 3
   },
   "file_extension": ".py",
   "mimetype": "text/x-python",
   "name": "python",
   "nbconvert_exporter": "python",
   "pygments_lexer": "ipython3",
   "version": "3.7.3"
  }
 },
 "nbformat": 4,
 "nbformat_minor": 2
}
