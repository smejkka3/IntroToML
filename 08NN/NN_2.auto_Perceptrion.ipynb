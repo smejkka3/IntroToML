{
 "cells": [
  {
   "cell_type": "code",
   "execution_count": 19,
   "metadata": {
    "scrolled": true
   },
   "outputs": [
    {
     "name": "stdout",
     "output_type": "stream",
     "text": [
      "predict (before training): tensor([[4.]], grad_fn=<MulBackward0>)\n",
      "\t grad: tensor([[-2.]]), \t loss: 1.0\n",
      "\t grad: tensor([[-7.8400]]), \t loss: 3.841600179672241\n",
      "\t grad: tensor([[-16.2288]]), \t loss: 7.315943717956543\n",
      "\t grad: tensor([[-1.4786]]), \t loss: 0.5465821623802185\n",
      "\t grad: tensor([[-5.7962]]), \t loss: 2.099749803543091\n",
      "\t grad: tensor([[-11.9981]]), \t loss: 3.9987640380859375\n",
      "\t grad: tensor([[-1.0932]]), \t loss: 0.2987521290779114\n",
      "\t grad: tensor([[-4.2852]]), \t loss: 1.1476863622665405\n",
      "\t grad: tensor([[-8.8704]]), \t loss: 2.1856532096862793\n",
      "\t grad: tensor([[-0.8082]]), \t loss: 0.16329261660575867\n",
      "\t grad: tensor([[-3.1681]]), \t loss: 0.6273048520088196\n",
      "\t grad: tensor([[-6.5580]]), \t loss: 1.1946394443511963\n",
      "\t grad: tensor([[-0.5975]]), \t loss: 0.08925279974937439\n",
      "\t grad: tensor([[-2.3422]]), \t loss: 0.34287363290786743\n",
      "\t grad: tensor([[-4.8484]]), \t loss: 0.6529689431190491\n",
      "\t grad: tensor([[-0.4417]]), \t loss: 0.048784039914608\n",
      "\t grad: tensor([[-1.7316]]), \t loss: 0.18740876019001007\n",
      "\t grad: tensor([[-3.5845]]), \t loss: 0.35690122842788696\n",
      "\t grad: tensor([[-0.3266]]), \t loss: 0.02666448801755905\n",
      "\t grad: tensor([[-1.2802]]), \t loss: 0.10243429243564606\n",
      "\t grad: tensor([[-2.6500]]), \t loss: 0.195076122879982\n",
      "\t grad: tensor([[-0.2414]]), \t loss: 0.014574333094060421\n",
      "\t grad: tensor([[-0.9465]]), \t loss: 0.055988773703575134\n",
      "\t grad: tensor([[-1.9592]]), \t loss: 0.10662525147199631\n",
      "\t grad: tensor([[-0.1785]]), \t loss: 0.007966067641973495\n",
      "\t grad: tensor([[-0.6997]]), \t loss: 0.030602457001805305\n",
      "\t grad: tensor([[-1.4485]]), \t loss: 0.0582793727517128\n",
      "\t grad: tensor([[-0.1320]]), \t loss: 0.004354109987616539\n",
      "\t grad: tensor([[-0.5173]]), \t loss: 0.016726721078157425\n",
      "\t grad: tensor([[-1.0709]]), \t loss: 0.03185431286692619\n",
      "predict (after training): tensor([[7.8049]], grad_fn=<MulBackward0>)\n"
     ]
    }
   ],
   "source": [
    "# Perceptron using automatic gradient descent algorithm based on pytorch\n",
    "import torch\n",
    "from torch.autograd import Variable\n",
    "\n",
    "\n",
    "# Training data initialziation\n",
    "x_data = [1.0, 2.0, 3.0]\n",
    "y_data = [2.0, 4.0, 6.0]\n",
    "\n",
    "test_data = 4  # test data\n",
    "\n",
    "lr = 0.01  # learning rate\n",
    "w = Variable(torch.ones(1, 1), requires_grad=True)  # Any random value using 'Variable' function in pytorch\n",
    "\n",
    "\n",
    "# forward pass of the model\n",
    "def forward(x):\n",
    "    return x*w\n",
    "\n",
    "\n",
    "# loss function\n",
    "def loss(y_pred, y):\n",
    "    return (y_pred - y)**2\n",
    "\n",
    "\n",
    "# Before training\n",
    "print(\"predict (before training): {}\".format(forward(test_data)))\n",
    "\n",
    "# Training loop\n",
    "for epoch in range(10):\n",
    "    for x, y in zip(x_data, y_data):\n",
    "        # 1. forward\n",
    "        y_pred = forward(x)\n",
    "        #print(\"pred:\",y_pred)\n",
    "        # 2. loss\n",
    "        l = loss(y_pred,y)\n",
    "        #print(\"loss:\",l)\n",
    "        # 3. backward\n",
    "        l.backward()\n",
    "        #print(\"grad:\",w.grad)\n",
    "        # 4.update\n",
    "        with torch.no_grad():\n",
    "            w -= lr * w.grad\n",
    " \n",
    "        print(\n",
    "            \"\\t grad: {}, \\t loss: {}\".format(w.grad.data, l.item()))  # round off to 2 places of decimals\n",
    "\n",
    "        # Manually zero the gradients after updating weights\n",
    "        w.grad.zero_()\n",
    "\n",
    "# After training\n",
    "print(\"predict (after training): {}\".format(forward(test_data)))\n"
   ]
  },
  {
   "cell_type": "code",
   "execution_count": null,
   "metadata": {},
   "outputs": [],
   "source": [
    "torch.__version__\n"
   ]
  }
 ],
 "metadata": {
  "kernelspec": {
   "display_name": "Python 37",
   "language": "python",
   "name": "python3"
  },
  "language_info": {
   "codemirror_mode": {
    "name": "ipython",
    "version": 3
   },
   "file_extension": ".py",
   "mimetype": "text/x-python",
   "name": "python",
   "nbconvert_exporter": "python",
   "pygments_lexer": "ipython3",
   "version": "3.7.3"
  }
 },
 "nbformat": 4,
 "nbformat_minor": 2
}
