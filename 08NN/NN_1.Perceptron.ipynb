{
 "cells": [
  {
   "cell_type": "code",
   "execution_count": 1,
   "metadata": {},
   "outputs": [
    {
     "name": "stdout",
     "output_type": "stream",
     "text": [
      "predict (before training): 4.0\n",
      "\t grad: -2.88, \t loss: 0.23\n",
      "\t grad: 0.37, \t loss: 0.0\n",
      "\t grad: -0.05, \t loss: 0.0\n",
      "\t grad: 0.01, \t loss: 0.0\n",
      "\t grad: -0.0, \t loss: 0.0\n",
      "\t grad: 0.0, \t loss: 0.0\n",
      "\t grad: -0.0, \t loss: 0.0\n",
      "\t grad: 0.0, \t loss: 0.0\n",
      "\t grad: -0.0, \t loss: 0.0\n",
      "\t grad: 0.0, \t loss: 0.0\n",
      "predict (after training): 7.9999999952776335\n"
     ]
    },
    {
     "data": {
      "text/plain": [
       "<Figure size 640x480 with 1 Axes>"
      ]
     },
     "metadata": {},
     "output_type": "display_data"
    },
    {
     "data": {
      "text/plain": [
       "<Figure size 640x480 with 1 Axes>"
      ]
     },
     "metadata": {},
     "output_type": "display_data"
    }
   ],
   "source": [
    "#Perceptron using manual gradient descent algorithm\n",
    "\n",
    "#Training data initialziation\n",
    "x_data = [1.0, 2.0, 3.0]\n",
    "y_data = [2.0, 4.0, 6.0]\n",
    "\n",
    "test_data = 4.0 #test data\n",
    "\n",
    "lr = 0.1 # learning rate\n",
    "w = 1.0  # a random guess: random value\n",
    "\n",
    "#forward pass of the model\n",
    "def forward(x):\n",
    "    return x * w\n",
    "\n",
    "#loss function\n",
    "def loss(y_pred, y):\n",
    "    return (y_pred - y)**2\n",
    "\n",
    "#compute gradient (backpropagation)\n",
    "def backward(x, y): #d_loss/d_w\n",
    "    d_cost_div_d_pred = 2*y\n",
    "    \n",
    "    return d_cost_div_d_pred*x\n",
    "\n",
    "#Before training\n",
    "print(\"predict (before training): {}\".format(forward(test_data)))\n",
    "import matplotlib.pyplot as plt\n",
    "import numpy as np\n",
    "\n",
    "#Training loop\n",
    "for epoch in range(10):\n",
    "    for x, y in zip(x_data, y_data):\n",
    "        #1. forward\n",
    "        y_pred = forward(x)\n",
    "        #print(y_pred)\n",
    "        #2. loss\n",
    "        l = loss(y_pred,y)\n",
    "        #print(cost)\n",
    "        #3. backward\n",
    "        grad = backward(x,y_pred-y)\n",
    "        #print(grad)\n",
    "        #4.update\n",
    "        w -= lr * grad\n",
    "        \n",
    "    plt.figure(1)\n",
    "    plt.plot(epoch, np.sum(l), 'ro')\n",
    "\n",
    "    plt.figure(2)\n",
    "    plt.plot(np.mean(w), np.sum(l), 'bo')\n",
    "\n",
    "    print(\"\\t grad: {}, \\t loss: {}\".format(round(grad,2), round(l,2))) #round off to 2 places of decimals\n",
    "\n",
    "#After training\n",
    "print(\"predict (after training): {}\".format(forward(test_data)))\n",
    "\n",
    "plt.show()"
   ]
  },
  {
   "cell_type": "code",
   "execution_count": null,
   "metadata": {},
   "outputs": [],
   "source": []
  },
  {
   "cell_type": "code",
   "execution_count": null,
   "metadata": {},
   "outputs": [],
   "source": []
  }
 ],
 "metadata": {
  "kernelspec": {
   "display_name": "Python 3",
   "language": "python",
   "name": "python3"
  },
  "language_info": {
   "codemirror_mode": {
    "name": "ipython",
    "version": 3
   },
   "file_extension": ".py",
   "mimetype": "text/x-python",
   "name": "python",
   "nbconvert_exporter": "python",
   "pygments_lexer": "ipython3",
   "version": "3.7.3"
  }
 },
 "nbformat": 4,
 "nbformat_minor": 2
}
