{
 "cells": [
  {
   "cell_type": "markdown",
   "metadata": {},
   "source": [
    "# Color Compression using K-means Clustering\n",
    "In this exercise, you will apply k-means clustering to compress colors in an RGB image. Instead of using all possible values in the RGB space, each pixel will be assigned to one of `k` prototypical color vectors, the so-called codebook vectors each of which corresponding to a cluster centroid. By doing so, the image can be described only by the codebook vectors and not the full RGB values."
   ]
  },
  {
   "cell_type": "code",
   "execution_count": null,
   "metadata": {},
   "outputs": [],
   "source": [
    "import numpy as np\n",
    "import matplotlib.pyplot as plt\n",
    "from PIL import Image\n",
    "\n",
    "import sklearn.cluster\n",
    "import sklearn.metrics\n",
    "import sklearn.utils"
   ]
  },
  {
   "cell_type": "markdown",
   "metadata": {},
   "source": [
    "## Data Loading\n",
    "Convert the image pixels into a data matrix `image_array` that you can use for k-means clustering. Think about what shape the data matrix should have."
   ]
  },
  {
   "cell_type": "code",
   "execution_count": null,
   "metadata": {
    "deletable": false,
    "nbgrader": {
     "checksum": "7e5fb9163be1b50b0e8011649325fe19",
     "grade": false,
     "grade_id": "cell-c622d17d18637f0e",
     "locked": false,
     "schema_version": 1,
     "solution": true
    }
   },
   "outputs": [],
   "source": [
    "# Load image and convert to float between 0 and 1\n",
    "im = Image.open('baboon.png')\n",
    "image = np.array(im, dtype=np.float64) / 255\n",
    "\n",
    "# >>>>> YOUR CODE HERE\n",
    "raise NotImplementedError(\"Replace this line by your code.\")\n",
    "# <<<<< END YOUR CODE\n",
    "print(image_array.shape)"
   ]
  },
  {
   "cell_type": "markdown",
   "metadata": {},
   "source": [
    "## K-means clustering\n",
    "Use `sklearn.cluster.KMeans` for clustering and train it on `num_train` randomly selected data points. You can use `sklearn.utils.shuffle` for this purpose."
   ]
  },
  {
   "cell_type": "code",
   "execution_count": null,
   "metadata": {
    "deletable": false,
    "nbgrader": {
     "checksum": "8d25215bb3b29201d09b675af025c2ee",
     "grade": false,
     "grade_id": "cell-32451dfc07b4d4eb",
     "locked": false,
     "schema_version": 1,
     "solution": true
    }
   },
   "outputs": [],
   "source": [
    "num_train = 1000\n",
    "n_colors = 4  # number of codebook vectors\n",
    "\n",
    "# >>>>> YOUR CODE HERE\n",
    "raise NotImplementedError(\"Replace this line by your code.\")\n",
    "# <<<<< END YOUR CODE"
   ]
  },
  {
   "cell_type": "markdown",
   "metadata": {},
   "source": [
    "Assign all samples to a codebook vector and store the result in the array `cluster_assignment`."
   ]
  },
  {
   "cell_type": "code",
   "execution_count": null,
   "metadata": {
    "deletable": false,
    "nbgrader": {
     "checksum": "2120d280c02e19a281b1548036c9823c",
     "grade": false,
     "grade_id": "cell-dcdd6c71bcd71f18",
     "locked": false,
     "schema_version": 1,
     "solution": true
    }
   },
   "outputs": [],
   "source": [
    "# >>>>> YOUR CODE HERE\n",
    "raise NotImplementedError(\"Replace this line by your code.\")\n",
    "# <<<<< END YOUR CODE"
   ]
  },
  {
   "cell_type": "markdown",
   "metadata": {},
   "source": [
    "## Reconstruction\n",
    "Write a function that reconstructs the compressed image from the codebook and the cluster assignments. Reshape the image to its original shape."
   ]
  },
  {
   "cell_type": "code",
   "execution_count": null,
   "metadata": {
    "deletable": false,
    "nbgrader": {
     "checksum": "80c3d50513b3746843dc0de2c6a37513",
     "grade": false,
     "grade_id": "cell-b5a27bc38121f350",
     "locked": false,
     "schema_version": 1,
     "solution": true
    }
   },
   "outputs": [],
   "source": [
    "def reconstruct(centroids, cluster_assignment, w, h):\n",
    "    \"\"\"\n",
    "    :param centroids: The codebook of k-means.\n",
    "    :param w: The width of the image to reconstruct.\n",
    "    :param h: The height of the image to reconstruct.\n",
    "    \"\"\"\n",
    "    # >>>>> YOUR CODE HERE\n",
    "    raise NotImplementedError(\"Replace this line by your code.\")\n",
    "    # <<<<< END YOUR CODE\n",
    "    return image_reconstructed"
   ]
  },
  {
   "cell_type": "markdown",
   "metadata": {},
   "source": [
    "## Visualization\n",
    "Reconstruct the image and plot it together with its original version."
   ]
  },
  {
   "cell_type": "code",
   "execution_count": null,
   "metadata": {
    "deletable": false,
    "nbgrader": {
     "checksum": "a48a2118e297451f067e8c43d30ca467",
     "grade": false,
     "grade_id": "cell-cf4f0f2e599fe70d",
     "locked": false,
     "schema_version": 1,
     "solution": true
    }
   },
   "outputs": [],
   "source": [
    "# >>>>> YOUR CODE HERE\n",
    "raise NotImplementedError(\"Replace this line by your code.\")\n",
    "# <<<<< END YOUR CODE\n",
    "plt.show()"
   ]
  },
  {
   "cell_type": "markdown",
   "metadata": {},
   "source": [
    "Create a random subset of the data, e.g. 500 samples."
   ]
  },
  {
   "cell_type": "code",
   "execution_count": null,
   "metadata": {
    "deletable": false,
    "nbgrader": {
     "checksum": "c57654f76259e4792a03a1bde9ece84d",
     "grade": false,
     "grade_id": "cell-cc2ac6ab47ea0842",
     "locked": false,
     "schema_version": 1,
     "solution": true
    }
   },
   "outputs": [],
   "source": [
    "# >>>>> YOUR CODE HERE\n",
    "raise NotImplementedError(\"Replace this line by your code.\")\n",
    "# <<<<< END YOUR CODE"
   ]
  },
  {
   "cell_type": "markdown",
   "metadata": {},
   "source": [
    "Plot this subset along with the codebook vectors in a 3D scatter plot. Each sample should be colored according to its RGB value."
   ]
  },
  {
   "cell_type": "code",
   "execution_count": null,
   "metadata": {
    "deletable": false,
    "nbgrader": {
     "checksum": "f91b7b2937b2b7610a35924d87d07f66",
     "grade": false,
     "grade_id": "cell-194cb392f3b34d39",
     "locked": false,
     "schema_version": 1,
     "solution": true
    }
   },
   "outputs": [],
   "source": [
    "from mpl_toolkits.mplot3d import Axes3D\n",
    "fig = plt.figure()\n",
    "ax = fig.add_subplot(111, projection='3d')  # -> ax.scatter == plt.scatter\n",
    "\n",
    "# >>>>> YOUR CODE HERE\n",
    "raise NotImplementedError(\"Replace this line by your code.\")\n",
    "# <<<<< END YOUR CODE\n",
    "\n",
    "plt.show()"
   ]
  }
 ],
 "metadata": {
  "kernelspec": {
   "display_name": "Python 37",
   "language": "python",
   "name": "python3"
  },
  "language_info": {
   "codemirror_mode": {
    "name": "ipython",
    "version": 3
   },
   "file_extension": ".py",
   "mimetype": "text/x-python",
   "name": "python",
   "nbconvert_exporter": "python",
   "pygments_lexer": "ipython3",
   "version": "3.7.3"
  }
 },
 "nbformat": 4,
 "nbformat_minor": 2
}
